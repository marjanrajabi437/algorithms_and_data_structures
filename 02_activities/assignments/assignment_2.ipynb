{
 "cells": [
  {
   "cell_type": "markdown",
   "metadata": {},
   "source": [
    "# Practice Interview\n",
    "\n",
    "## Objective\n",
    "\n",
    "_*The partner assignment aims to provide participants with the opportunity to practice coding in an interview context. You will analyze your partner's Assignment 1. Moreover, code reviews are common practice in a software development team. This assignment should give you a taste of the code review process.*_\n",
    "\n",
    "## Group Size\n",
    "\n",
    "Each group should have 2 people. You will be assigned a partner\n",
    "\n",
    "## Part 1:\n",
    "\n",
    "You and your partner must share each other's Assignment 1 submission."
   ]
  },
  {
   "cell_type": "markdown",
   "metadata": {},
   "source": [
    "\n",
    "## Part 2:\n",
    "\n",
    "Create a Jupyter Notebook, create 6 of the following headings, and complete the following for your partner's assignment 1:\n",
    "\n",
    "-   Paraphrase the problem in your own words.\n"
   ]
  },
  {
   "cell_type": "markdown",
   "metadata": {},
   "source": [
    "Question 3 is perceived and expressed as follows:\n",
    "\n",
    "1) The list of integers ranging from 0 to n.\n",
    "2) Some numbers from the range [0, n] may be missing in the list.\n",
    "3) The goal is to find the missing numbers and return them in a new list.\n",
    "4) The number in the list may not be in order\n",
    "4) If no numbers are missing, return -1.\n",
    "\n",
    "* The list may include duplicate numbers, which should be accounted for in the solution"
   ]
  },
  {
   "cell_type": "markdown",
   "metadata": {},
   "source": [
    "\n",
    "-   Create 1 new example that demonstrates you understand the problem. Trace/walkthrough 1 example that your partner made and explain it.\n"
   ]
  },
  {
   "cell_type": "markdown",
   "metadata": {},
   "source": [
    "EXP 1:\n",
    "Input [9,5,4,8,5,0]\n",
    "Output  [1,2,3,6,7]\n",
    "\n",
    "Example of the partner:# \n",
    "\n",
    "1) The list of integers ranging from 0 to 9.\n",
    "2) The numbers from the range [0, 9] that are missing in the list : [1,6,8].\n",
    "3) The goal is to find the missing numbers and return them in a new list.\n",
    "4) The number in the list may not be in order\n",
    "4) If no numbers are missing, return -1.\n",
    "\n",
    "* The list include duplicate numbers, which should be accounted for in the solution : [2,3]"
   ]
  },
  {
   "cell_type": "markdown",
   "metadata": {},
   "source": [
    "\n",
    "-   Copy the solution your partner wrote. \n"
   ]
  },
  {
   "cell_type": "markdown",
   "metadata": {},
   "source": [
    "# Input: [0, 9, 2, 3, 2, 4, 3, 2, 5, 7]\n",
    "# Output: [1, 6, 8]\n"
   ]
  },
  {
   "cell_type": "markdown",
   "metadata": {},
   "source": [
    "\n",
    "-   Explain why their solution works in your own words.\n"
   ]
  },
  {
   "cell_type": "markdown",
   "metadata": {},
   "source": [
    "The solution works by calculating the full range [0, n], converting the list to a set to handle duplicates, and using set difference to find missing numbers efficiently. If no numbers are missing, it returns -1. This approach ensures accuracy and simplicity."
   ]
  },
  {
   "cell_type": "markdown",
   "metadata": {},
   "source": [
    "\n",
    "-   Explain the problem’s time and space complexity in your own words.\n"
   ]
  },
  {
   "cell_type": "markdown",
   "metadata": {},
   "source": [
    "The time complexity of the solution is O(n * log n) because the Merge Sort algorithm has a non-recursive part that takes O(n) time and a recursive part that runs O(log n) times. The space complexity is O(n) because Merge Sort requires additional space for merging the sublists."
   ]
  },
  {
   "cell_type": "markdown",
   "metadata": {},
   "source": [
    "\n",
    "-   Critique your partner's solution, including explanation, and if there is anything that should be adjusted.\n"
   ]
  },
  {
   "cell_type": "markdown",
   "metadata": {},
   "source": [
    "1) Explanation of the Example and make examples:\n",
    "The partner's solution explanation of the example is generally good. And make examples are clear.\n",
    "2) Explanation of Time Complexity:\n",
    "The explanation of the time complexity is accurate.\n",
    "3) Explanation of Space Complexity:\n",
    "The space complexity explanation is correct. "
   ]
  },
  {
   "cell_type": "markdown",
   "metadata": {},
   "source": [
    "\n",
    "## Part 3:\n",
    "\n",
    "Please write a 200 word reflection documenting your process from assignment 1, and your presentation and review experience with your partner at the bottom of the Jupyter Notebook under a new heading \"Reflection.\" Again, export this Notebook as pdf.\n"
   ]
  },
  {
   "cell_type": "markdown",
   "metadata": {},
   "source": [
    "### Reflection"
   ]
  },
  {
   "cell_type": "markdown",
   "metadata": {},
   "source": [
    "In Assignment 1, I worked through the implementation of a breadth-first search (BFS) algorithm to identify paths to leaf nodes in a binary tree. My initial focus was on understanding the problem and translating it into a structured algorithm using BFS. I opted for a queue-based approach to handle the tree traversal, ensuring that all levels were processed sequentially, which is crucial for BFS. After implementing the code, I tested it on a few tree examples, analyzing the output to ensure the correctness of the paths.\n",
    "\n",
    "When reviewing the solution with my partner, they asked a question about handling missing values in a list. This led to a productive discussion about how to address such cases efficiently and how it would affect the overall implementation. My partner provided valuable insights on dealing with missing elements and optimizing the code to account for edge cases. This feedback helped me refine my solution and ensure that it was more flexible and robust, especially in scenarios where the input data might not be complete.\n",
    "\n",
    "Overall, the process of collaborating with my partner was beneficial, as we both shared ideas and suggestions, leading to improvements in both our solutions. This review and feedback cycle enhanced my understanding of the algorithm and made me more confident in tackling similar problems in the future."
   ]
  },
  {
   "cell_type": "markdown",
   "metadata": {},
   "source": [
    "\n",
    "## Evaluation Criteria\n",
    "\n",
    "We are looking for the similar points as Assignment 1\n",
    "\n",
    "-   Problem is accurately stated\n",
    "\n",
    "-   New example is correct and easily understandable\n",
    "\n",
    "-   Correctness, time, and space complexity of the coding solution\n",
    "\n",
    "-   Clarity in explaining why the solution works, its time and space complexity\n",
    "\n",
    "-   Quality of critique of your partner's assignment, if necessary\n"
   ]
  },
  {
   "cell_type": "markdown",
   "metadata": {},
   "source": [
    "## Submission Information\n",
    "\n",
    "🚨 **Please review our [Assignment Submission Guide](https://github.com/UofT-DSI/onboarding/blob/main/onboarding_documents/submissions.md)** 🚨 for detailed instructions on how to format, branch, and submit your work. Following these guidelines is crucial for your submissions to be evaluated correctly.\n",
    "\n",
    "### Submission Parameters:\n",
    "* Submission Due Date: `HH:MM AM/PM - DD/MM/YYYY`\n",
    "* The branch name for your repo should be: `assignment-2`\n",
    "* What to submit for this assignment:\n",
    "    * This Jupyter Notebook (assignment_2.ipynb) should be populated and should be the only change in your pull request.\n",
    "* What the pull request link should look like for this assignment: `https://github.com/<your_github_username>/algorithms_and_data_structures/pull/<pr_id>`\n",
    "    * Open a private window in your browser. Copy and paste the link to your pull request into the address bar. Make sure you can see your pull request properly. This helps the technical facilitator and learning support staff review your submission easily.\n",
    "\n",
    "Checklist:\n",
    "- [ ] Created a branch with the correct naming convention.\n",
    "- [ ] Ensured that the repository is public.\n",
    "- [ ] Reviewed the PR description guidelines and adhered to them.\n",
    "- [ ] Verify that the link is accessible in a private browser window.\n",
    "\n",
    "If you encounter any difficulties or have questions, please don't hesitate to reach out to our team via our Slack at `#cohort-3-help`. Our Technical Facilitators and Learning Support staff are here to help you navigate any challenges.\n"
   ]
  }
 ],
 "metadata": {
  "language_info": {
   "name": "python"
  }
 },
 "nbformat": 4,
 "nbformat_minor": 2
}
